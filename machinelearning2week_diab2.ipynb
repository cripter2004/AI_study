{
  "nbformat": 4,
  "nbformat_minor": 0,
  "metadata": {
    "colab": {
      "provenance": []
    },
    "kernelspec": {
      "name": "python3",
      "display_name": "Python 3"
    },
    "language_info": {
      "name": "python"
    }
  },
  "cells": [
    {
      "cell_type": "markdown",
      "source": [],
      "metadata": {
        "id": "UVU_NV0ENyUD"
      }
    },
    {
      "cell_type": "code",
      "source": [
        "import numpy as np\n",
        "import pandas as pd\n",
        "\n",
        "from sklearn.datasets import load_diabetes\n",
        "from sklearn.model_selection import train_test_split\n",
        "from sklearn.tree import DecisionTreeRegressor\n",
        "from sklearn.ensemble import RandomForestRegressor\n",
        "from sklearn.linear_model import LinearRegression\n",
        "from sklearn.pipeline import make_pipeline\n",
        "from sklearn.preprocessing import StandardScaler\n",
        "from sklearn.metrics import mean_absolute_error, mean_squared_error, r2_score\n",
        "\n",
        "# -----------------------------\n",
        "# 1) 데이터 준비 (회귀용)\n",
        "# -----------------------------\n",
        "# 예시: 당뇨병 회귀 데이터셋 (다운로드 없이 사용 가능)\n",
        "diab = load_diabetes(as_frame=True)\n",
        "df = pd.concat([diab.data, diab.target.rename(\"target\")], axis=1).dropna()\n",
        "\n",
        "# outcome을 삭제하고 BMI를 예측하기 위해 데이터 분리\n",
        "X = df.drop(columns=[\"target\", \"bmi\"]) # outcome(target)과 BMI 컬럼 제외\n",
        "y = df[\"bmi\"]  # 예측 목표를 BMI로 설정\n",
        "\n",
        "X_train, X_test, y_train, y_test = train_test_split(\n",
        "    X, y, test_size=0.2, random_state=42\n",
        ")\n",
        "\n",
        "# -----------------------------\n",
        "# 2) 모델 구성 (회귀 모델)\n",
        "# -----------------------------\n",
        "dt = DecisionTreeRegressor(random_state=42)\n",
        "rf = RandomForestRegressor(n_estimators=300, random_state=42, n_jobs=-1)\n",
        "\n",
        "# 선형회귀는 스케일링과 함께 파이프라인 구성 권장\n",
        "lr = make_pipeline(StandardScaler(with_mean=True, with_std=True), LinearRegression())\n",
        "\n",
        "# -----------------------------\n",
        "# 3) 모델 학습\n",
        "# -----------------------------\n",
        "dt.fit(X_train, y_train)\n",
        "rf.fit(X_train, y_train)\n",
        "lr.fit(X_train, y_train)\n",
        "\n",
        "# -----------------------------\n",
        "# 4) 모델 평가 함수\n",
        "# -----------------------------\n",
        "def eval_reg(y_true, y_pred):\n",
        "    mae = mean_absolute_error(y_true, y_pred)\n",
        "    # Calculate RMSE by taking the square root of MSE\n",
        "    rmse = np.sqrt(mean_squared_error(y_true, y_pred))\n",
        "    r2 = r2_score(y_true, y_pred)\n",
        "    return mae, rmse, r2\n",
        "\n",
        "# -----------------------------\n",
        "# 5) 예측 및 평가\n",
        "# -----------------------------\n",
        "dt_mae, dt_rmse, dt_r2 = eval_reg(y_test, dt.predict(X_test))\n",
        "rf_mae, rf_rmse, rf_r2 = eval_reg(y_test, rf.predict(X_test))\n",
        "lr_mae, lr_rmse, lr_r2 = eval_reg(y_test, lr.predict(X_test))\n",
        "\n",
        "print(\"=== Test Metrics (Predicting BMI) ===\")\n",
        "print(\"[Decision Tree]\")\n",
        "print(f\"MAE: {dt_mae:.3f} | RMSE: {dt_rmse:.3f} | R^2: {dt_r2:.3f}\")\n",
        "\n",
        "print(\"[Random Forest]\")\n",
        "print(f\"MAE: {rf_mae:.3f} | RMSE: {rf_rmse:.3f} | R^2: {rf_r2:.3f}\")\n",
        "\n",
        "print(\"[Linear Regression]\")\n",
        "print(f\"MAE: {lr_mae:.3f} | RMSE: {lr_rmse:.3f} | R^2: {lr_r2:.3f}\")\n",
        "\n",
        "# -----------------------------\n",
        "# 6) BMI 예측값 출력 (예시)\n",
        "# -----------------------------\n",
        "print(\"\\n=== Sample BMI Predictions ===\")\n",
        "print(\"Decision Tree Predicted BMI:\", dt.predict(X_test.iloc[:5]))\n",
        "print(\"Random Forest Predicted BMI:\", rf.predict(X_test.iloc[:5]))\n",
        "print(\"Linear Regression Predicted BMI:\", lr.predict(X_test.iloc[:5]))\n",
        "print(\"Actual BMI:\", y_test.iloc[:5].values)"
      ],
      "metadata": {
        "colab": {
          "base_uri": "https://localhost:8080/"
        },
        "id": "uE03hP5cV5vF",
        "outputId": "49ce9ad9-dd9f-4ff2-e498-324506a5cd65"
      },
      "execution_count": 1,
      "outputs": [
        {
          "output_type": "stream",
          "name": "stdout",
          "text": [
            "=== Test Metrics (Predicting BMI) ===\n",
            "[Decision Tree]\n",
            "MAE: 0.041 | RMSE: 0.056 | R^2: -0.329\n",
            "[Random Forest]\n",
            "MAE: 0.035 | RMSE: 0.045 | R^2: 0.124\n",
            "[Linear Regression]\n",
            "MAE: 0.034 | RMSE: 0.043 | R^2: 0.196\n",
            "\n",
            "=== Sample BMI Predictions ===\n",
            "Decision Tree Predicted BMI: [-0.00620595  0.00672779 -0.02560657  0.05630715  0.02073935]\n",
            "Random Forest Predicted BMI: [ 0.01323059  0.00240217 -0.0020923   0.0538677  -0.00219649]\n",
            "Linear Regression Predicted BMI: [ 0.01414963  0.0033373  -0.01068099  0.07626833 -0.00175662]\n",
            "Actual BMI: [-0.00620595  0.03690653 -0.00405033  0.0519959  -0.02021751]\n"
          ]
        }
      ]
    },
    {
      "cell_type": "markdown",
      "source": [],
      "metadata": {
        "id": "TfLXAAEGOe9D"
      }
    }
  ]
}