{
  "nbformat": 4,
  "nbformat_minor": 0,
  "metadata": {
    "colab": {
      "provenance": []
    },
    "kernelspec": {
      "name": "python3",
      "display_name": "Python 3"
    },
    "language_info": {
      "name": "python"
    }
  },
  "cells": [
    {
      "cell_type": "code",
      "execution_count": null,
      "metadata": {
        "colab": {
          "base_uri": "https://localhost:8080/"
        },
        "id": "_m_PBL6p6t2M",
        "outputId": "0d074c2d-48bd-4a4b-a107-7b89c844b882"
      },
      "outputs": [
        {
          "output_type": "stream",
          "name": "stderr",
          "text": [
            "/tmp/ipython-input-470430023.py:29: FutureWarning: Downcasting behavior in `replace` is deprecated and will be removed in a future version. To retain the old behavior, explicitly call `result.infer_objects(copy=False)`. To opt-in to the future behavior, set `pd.set_option('future.no_silent_downcasting', True)`\n",
            "  df['buying'] = df['buying'].replace(buying_maint_map)\n",
            "/tmp/ipython-input-470430023.py:30: FutureWarning: Downcasting behavior in `replace` is deprecated and will be removed in a future version. To retain the old behavior, explicitly call `result.infer_objects(copy=False)`. To opt-in to the future behavior, set `pd.set_option('future.no_silent_downcasting', True)`\n",
            "  df['maint'] = df['maint'].replace(buying_maint_map)\n",
            "/tmp/ipython-input-470430023.py:35: FutureWarning: Downcasting behavior in `replace` is deprecated and will be removed in a future version. To retain the old behavior, explicitly call `result.infer_objects(copy=False)`. To opt-in to the future behavior, set `pd.set_option('future.no_silent_downcasting', True)`\n",
            "  df['doors'] = df['doors'].replace(doors_map)\n",
            "/tmp/ipython-input-470430023.py:40: FutureWarning: Downcasting behavior in `replace` is deprecated and will be removed in a future version. To retain the old behavior, explicitly call `result.infer_objects(copy=False)`. To opt-in to the future behavior, set `pd.set_option('future.no_silent_downcasting', True)`\n",
            "  df['persons'] = df['persons'].replace(persons_map)\n",
            "/tmp/ipython-input-470430023.py:44: FutureWarning: Downcasting behavior in `replace` is deprecated and will be removed in a future version. To retain the old behavior, explicitly call `result.infer_objects(copy=False)`. To opt-in to the future behavior, set `pd.set_option('future.no_silent_downcasting', True)`\n",
            "  df['lug_boot'] = df['lug_boot'].replace(lug_boot_map)\n",
            "/tmp/ipython-input-470430023.py:48: FutureWarning: Downcasting behavior in `replace` is deprecated and will be removed in a future version. To retain the old behavior, explicitly call `result.infer_objects(copy=False)`. To opt-in to the future behavior, set `pd.set_option('future.no_silent_downcasting', True)`\n",
            "  df['safety'] = df['safety'].replace(safety_map)\n",
            "/tmp/ipython-input-470430023.py:52: FutureWarning: Downcasting behavior in `replace` is deprecated and will be removed in a future version. To retain the old behavior, explicitly call `result.infer_objects(copy=False)`. To opt-in to the future behavior, set `pd.set_option('future.no_silent_downcasting', True)`\n",
            "  df['label'] = df['label'].replace(label_map)\n"
          ]
        },
        {
          "output_type": "stream",
          "name": "stdout",
          "text": [
            "=== Test Accuracy ===\n",
            "Decision Tree : 0.9769\n",
            "Random Forest : 0.9711\n",
            "Logistic Reg. : 0.8064\n"
          ]
        }
      ],
      "source": [
        "import pandas as pd\n",
        "from sklearn.model_selection import train_test_split\n",
        "from sklearn.tree import DecisionTreeClassifier\n",
        "from sklearn.ensemble import RandomForestClassifier\n",
        "from sklearn.linear_model import LogisticRegression\n",
        "from sklearn.metrics import accuracy_score\n",
        "\n",
        "# -----------------------------\n",
        "# 1) 데이터 준비 및 전처리\n",
        "# -----------------------------\n",
        "\n",
        "# 'iris.data'는 붓꽃 데이터셋으로, 붓꽃 데이터에는 문자열이 포함될 수 없습니다.\n",
        "# 질문의 의도에 맞게 'car.data' 파일에 대한 가상의 전처리 코드로 변경하여 진행합니다.\n",
        "# 실제 car.data 파일은 CSV 헤더가 없으며, 순서대로 6개의 특성과 1개의 레이블을 가집니다.\n",
        "\n",
        "cols = ['buying', 'maint', 'doors', 'persons', 'lug_boot', 'safety', 'label']\n",
        "\n",
        "# car.data 파일을 가정하고 읽어옵니다.\n",
        "df = pd.read_csv(\"/content/drive/MyDrive/Colab Notebooks/car_evaluation.csv\", header=None, names=cols).dropna()\n",
        "\n",
        "# -----------------------------\n",
        "# 1-1) 문자열 데이터 전처리\n",
        "# -----------------------------\n",
        "# 문자열을 순서가 있는 숫자 값으로 매핑합니다.\n",
        "# pandas.DataFrame.replace() 메서드를 사용하여 값을 일괄 변환합니다.\n",
        "\n",
        "# 가격(buying), 유지비(maint)\n",
        "buying_maint_map = {'vhigh': 4, 'high': 3, 'med': 2, 'low': 1}\n",
        "df['buying'] = df['buying'].replace(buying_maint_map)\n",
        "df['maint'] = df['maint'].replace(buying_maint_map)\n",
        "\n",
        "# 문 수(doors)\n",
        "# '5more'를 5로 변환합니다.\n",
        "doors_map = {'2': 2, '3': 3, '4': 4, '5more': 5}\n",
        "df['doors'] = df['doors'].replace(doors_map)\n",
        "\n",
        "# 인원(persons)\n",
        "# 'more'를 6으로 변환합니다.\n",
        "persons_map = {'2': 2, '4': 4, 'more': 6}\n",
        "df['persons'] = df['persons'].replace(persons_map)\n",
        "\n",
        "# 짐칸 크기(lug_boot)\n",
        "lug_boot_map = {'small': 1, 'med': 2, 'big': 3}\n",
        "df['lug_boot'] = df['lug_boot'].replace(lug_boot_map)\n",
        "\n",
        "# 안전성(safety)\n",
        "safety_map = {'low': 1, 'med': 2, 'high': 3}\n",
        "df['safety'] = df['safety'].replace(safety_map)\n",
        "\n",
        "# 레이블(label)\n",
        "label_map = {'unacc': 1, 'acc': 2, 'good': 3, 'vgood': 4}\n",
        "df['label'] = df['label'].replace(label_map)\n",
        "\n",
        "# 데이터 분할\n",
        "X = df.drop(columns=[\"label\"])\n",
        "y = df[\"label\"]\n",
        "\n",
        "X_train, X_test, y_train, y_test = train_test_split(\n",
        "    X, y, test_size=0.2, stratify=y, random_state=42\n",
        ")\n",
        "\n",
        "# -----------------------------\n",
        "# 2) 모델 구성\n",
        "# -----------------------------\n",
        "dt = DecisionTreeClassifier(random_state=42)\n",
        "rf = RandomForestClassifier(n_estimators=200, random_state=42)\n",
        "lr = LogisticRegression(max_iter=500)\n",
        "\n",
        "# -----------------------------\n",
        "# 3) 모델 학습\n",
        "# -----------------------------\n",
        "dt.fit(X_train, y_train)\n",
        "rf.fit(X_train, y_train)\n",
        "lr.fit(X_train, y_train)\n",
        "\n",
        "# -----------------------------\n",
        "# 4) 모델 평가\n",
        "# -----------------------------\n",
        "dt_acc = accuracy_score(y_test, dt.predict(X_test))\n",
        "rf_acc = accuracy_score(y_test, rf.predict(X_test))\n",
        "lr_acc = accuracy_score(y_test, lr.predict(X_test))\n",
        "\n",
        "print(\"=== Test Accuracy ===\")\n",
        "print(f\"Decision Tree : {dt_acc:.4f}\")\n",
        "print(f\"Random Forest : {rf_acc:.4f}\")\n",
        "print(f\"Logistic Reg. : {lr_acc:.4f}\")"
      ]
    },
    {
      "cell_type": "markdown",
      "source": [],
      "metadata": {
        "id": "UVU_NV0ENyUD"
      }
    },
    {
      "cell_type": "markdown",
      "source": [],
      "metadata": {
        "id": "TfLXAAEGOe9D"
      }
    }
  ]
}