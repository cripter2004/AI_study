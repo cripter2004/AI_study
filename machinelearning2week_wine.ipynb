{
  "nbformat": 4,
  "nbformat_minor": 0,
  "metadata": {
    "colab": {
      "provenance": []
    },
    "kernelspec": {
      "name": "python3",
      "display_name": "Python 3"
    },
    "language_info": {
      "name": "python"
    }
  },
  "cells": [
    {
      "cell_type": "markdown",
      "source": [],
      "metadata": {
        "id": "UVU_NV0ENyUD"
      }
    },
    {
      "cell_type": "code",
      "source": [
        "import pandas as pd\n",
        "from sklearn.model_selection import train_test_split\n",
        "# 회귀 모델로 교체\n",
        "from sklearn.tree import DecisionTreeRegressor\n",
        "from sklearn.ensemble import RandomForestRegressor\n",
        "from sklearn.linear_model import LinearRegression\n",
        "# 회귀 모델 평가 지표 추가\n",
        "from sklearn.metrics import mean_squared_error\n",
        "import numpy as np\n",
        "\n",
        "# -----------------------------\n",
        "# 1) 데이터 준비 및 전처리\n",
        "# -----------------------------\n",
        "# 각 CSV 파일은 세미콜론(;)으로 구분되어 있으므로, sep=';' 옵션 추가\n",
        "red_wine = pd.read_csv(\"/content/drive/MyDrive/Colab Notebooks/winequality-red.csv\", sep=';')\n",
        "white_wine = pd.read_csv(\"/content/drive/MyDrive/Colab Notebooks/winequality-white.csv\", sep=';')\n",
        "\n",
        "# 레드 와인 데이터에 'color' 열을 추가 (레드=1)\n",
        "red_wine['color'] = 1\n",
        "# 화이트 와인 데이터에 'color' 열을 추가 (화이트=0)\n",
        "white_wine['color'] = 0\n",
        "\n",
        "# 레드 와인과 화이트 와인 데이터프레임을 합치기\n",
        "df = pd.concat([red_wine, white_wine])\n",
        "df.reset_index(drop=True, inplace=True)\n",
        "\n",
        "# 와인의 품질('quality')을 제외한 모든 열을 특성(X)으로 설정\n",
        "# 이 X에는 이제 'color' 열이 포함됩니다.\n",
        "X = df.drop(columns=['quality'])\n",
        "# 와인의 품질('quality') 열을 목표 변수(y)로 설정\n",
        "y = df['quality']\n",
        "\n",
        "# 데이터를 훈련용과 테스트용으로 분할\n",
        "# 회귀 문제에서는 stratify를 사용하지 않습니다.\n",
        "X_train, X_test, y_train, y_test = train_test_split(\n",
        "    X, y, test_size=0.2, random_state=42\n",
        ")\n",
        "\n",
        "# -----------------------------\n",
        "# 2) 모델 구성 (회귀 모델로 교체)\n",
        "# -----------------------------\n",
        "# 결정 트리 회귀 모델\n",
        "dt = DecisionTreeRegressor(random_state=42)\n",
        "# 랜덤 포레스트 회귀 모델\n",
        "rf = RandomForestRegressor(n_estimators=200, random_state=42)\n",
        "# 선형 회귀 모델\n",
        "lr = LinearRegression()\n",
        "\n",
        "# -----------------------------\n",
        "# 3) 모델 학습\n",
        "# -----------------------------\n",
        "dt.fit(X_train, y_train)\n",
        "rf.fit(X_train, y_train)\n",
        "lr.fit(X_train, y_train)\n",
        "\n",
        "# -----------------------------\n",
        "# 4) 모델 평가 (RMSE로 교체)\n",
        "# -----------------------------\n",
        "dt_rmse = np.sqrt(mean_squared_error(y_test, dt.predict(X_test)))\n",
        "rf_rmse = np.sqrt(mean_squared_error(y_test, rf.predict(X_test)))\n",
        "lr_rmse = np.sqrt(mean_squared_error(y_test, lr.predict(X_test)))\n",
        "\n",
        "print(\"=== Test RMSE ===\")\n",
        "print(f\"Decision Tree Regressor: {dt_rmse:.4f}\")\n",
        "print(f\"Random Forest Regressor: {rf_rmse:.4f}\")\n",
        "print(f\"Linear Regression: {lr_rmse:.4f}\")"
      ],
      "metadata": {
        "colab": {
          "base_uri": "https://localhost:8080/"
        },
        "id": "uE03hP5cV5vF",
        "outputId": "2a6c645a-eed7-4a55-bf1c-ac27055760b9"
      },
      "execution_count": null,
      "outputs": [
        {
          "output_type": "stream",
          "name": "stdout",
          "text": [
            "=== Test RMSE ===\n",
            "Decision Tree Regressor: 0.8540\n",
            "Random Forest Regressor: 0.6072\n",
            "Linear Regression: 0.7357\n"
          ]
        }
      ]
    },
    {
      "cell_type": "markdown",
      "source": [],
      "metadata": {
        "id": "TfLXAAEGOe9D"
      }
    }
  ]
}