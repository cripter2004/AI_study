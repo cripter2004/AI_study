{
  "nbformat": 4,
  "nbformat_minor": 0,
  "metadata": {
    "colab": {
      "provenance": []
    },
    "kernelspec": {
      "name": "python3",
      "display_name": "Python 3"
    },
    "language_info": {
      "name": "python"
    }
  },
  "cells": [
    {
      "cell_type": "code",
      "execution_count": null,
      "metadata": {
        "colab": {
          "base_uri": "https://localhost:8080/"
        },
        "id": "_m_PBL6p6t2M",
        "outputId": "4b7af2f8-6db5-4415-ef79-54cb214eeb1e"
      },
      "outputs": [
        {
          "output_type": "stream",
          "name": "stdout",
          "text": [
            "=== Test Accuracy ===\n",
            "Decision Tree : 0.9855\n",
            "Random Forest : 0.9798\n",
            "Logistic Reg. : 0.6908\n"
          ]
        }
      ],
      "source": [
        "import pandas as pd\n",
        "from sklearn.model_selection import train_test_split\n",
        "from sklearn.tree import DecisionTreeClassifier\n",
        "from sklearn.ensemble import RandomForestClassifier\n",
        "from sklearn.linear_model import LogisticRegression\n",
        "from sklearn.metrics import accuracy_score\n",
        "from sklearn.preprocessing import OrdinalEncoder\n",
        "\n",
        "# -----------------------------\n",
        "# 1) 데이터 준비 및 인코딩\n",
        "# -----------------------------\n",
        "\n",
        "# 'car_evaluation.csv' 파일의 실제 열 이름으로 수정\n",
        "cols = [\"buying\", \"maint\", \"doors\", \"persons\", \"lug_boot\", \"safety\", \"evaluation\"]\n",
        "\n",
        "# 파일 이름과 열 이름을 수정하여 데이터 불러오기\n",
        "df = pd.read_csv(\"/content/drive/MyDrive/Colab Notebooks/car_evaluation.csv\", header=None, names=cols).dropna()\n",
        "\n",
        "# 문자열(object 타입)인 모든 열을 자동으로 찾아서 OrdinalEncoder 적용\n",
        "categorical_cols = df.select_dtypes(include=['object']).columns\n",
        "\n",
        "# 레이블 인코딩을 위한 OrdinalEncoder 생성\n",
        "encoder = OrdinalEncoder()\n",
        "\n",
        "# fit_transform()으로 문자열 열을 숫자로 변환\n",
        "for col in categorical_cols:\n",
        "    df[col] = encoder.fit_transform(df[[col]])\n",
        "\n",
        "X = df.drop(columns=[\"evaluation\"])  # 목표 변수 'evaluation'을 제외한 나머지 열을 특성(X)으로 사용\n",
        "y = df[\"evaluation\"]                 # 'evaluation' 열을 목표 변수(y)로 사용\n",
        "\n",
        "X_train, X_test, y_train, y_test = train_test_split(\n",
        "    X, y, test_size=0.2, stratify=y, random_state=42\n",
        ")\n",
        "\n",
        "# -----------------------------\n",
        "# 2) 모델 구성\n",
        "# -----------------------------\n",
        "dt = DecisionTreeClassifier(random_state=42)\n",
        "rf = RandomForestClassifier(n_estimators=200, random_state=42)\n",
        "lr = LogisticRegression(max_iter=500)\n",
        "\n",
        "# -----------------------------\n",
        "# 3) 모델 학습\n",
        "# -----------------------------\n",
        "dt.fit(X_train, y_train)\n",
        "rf.fit(X_train, y_train)\n",
        "lr.fit(X_train, y_train)\n",
        "\n",
        "# -----------------------------\n",
        "# 4) 모델 평가\n",
        "# -----------------------------\n",
        "dt_acc = accuracy_score(y_test, dt.predict(X_test))\n",
        "rf_acc = accuracy_score(y_test, rf.predict(X_test))\n",
        "lr_acc = accuracy_score(y_test, lr.predict(X_test))\n",
        "\n",
        "print(\"=== Test Accuracy ===\")\n",
        "print(f\"Decision Tree : {dt_acc:.4f}\")\n",
        "print(f\"Random Forest : {rf_acc:.4f}\")\n",
        "print(f\"Logistic Reg. : {lr_acc:.4f}\")"
      ]
    },
    {
      "cell_type": "markdown",
      "source": [],
      "metadata": {
        "id": "UVU_NV0ENyUD"
      }
    },
    {
      "cell_type": "markdown",
      "source": [],
      "metadata": {
        "id": "TfLXAAEGOe9D"
      }
    }
  ]
}