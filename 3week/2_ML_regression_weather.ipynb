{
  "nbformat": 4,
  "nbformat_minor": 0,
  "metadata": {
    "colab": {
      "provenance": []
    },
    "kernelspec": {
      "name": "python3",
      "display_name": "Python 3"
    },
    "language_info": {
      "name": "python"
    }
  },
  "cells": [
    {
      "cell_type": "code",
      "source": [
        "import pandas as pd\n",
        "from sklearn.model_selection import train_test_split\n",
        "from sklearn.linear_model import LinearRegression\n",
        "from sklearn.metrics import mean_squared_error\n",
        "import matplotlib.pyplot as plt\n",
        "\n",
        "# weather.csv 파일을 읽어옵니다.\n",
        "df = pd.read_csv('/content/drive/MyDrive/Colab Notebooks/weather.csv')\n",
        "\n",
        "# 데이터프레임의 상위 5개 행과 정보 확인\n",
        "print(\"데이터프레임 상위 5행:\")\n",
        "print(df.head())\n",
        "print(\"\\n데이터프레임 정보:\")\n",
        "df.info()"
      ],
      "metadata": {
        "colab": {
          "base_uri": "https://localhost:8080/"
        },
        "id": "x5stektvdWj6",
        "outputId": "503c94fd-8432-4e4b-e8c3-bc16120f1991"
      },
      "execution_count": 47,
      "outputs": [
        {
          "output_type": "stream",
          "name": "stdout",
          "text": [
            "데이터프레임 상위 5행:\n",
            "        Date  Location  MinTemp  MaxTemp  Rainfall  Evaporation  Sunshine  \\\n",
            "0  11/1/2007  Canberra      8.0     24.3       0.0          3.4       6.3   \n",
            "1  11/2/2007  Canberra     14.0     26.9       3.6          4.4       9.7   \n",
            "2  11/3/2007  Canberra     13.7     23.4       3.6          5.8       3.3   \n",
            "3  11/4/2007  Canberra     13.3     15.5      39.8          7.2       9.1   \n",
            "4  11/5/2007  Canberra      7.6     16.1       2.8          5.6      10.6   \n",
            "\n",
            "  WindGustDir  WindGustSpeed WindDir9am  ... Humidity3pm  Pressure9am  \\\n",
            "0          NW           30.0         SW  ...          29       1019.7   \n",
            "1         ENE           39.0          E  ...          36       1012.4   \n",
            "2          NW           85.0          N  ...          69       1009.5   \n",
            "3          NW           54.0        WNW  ...          56       1005.5   \n",
            "4         SSE           50.0        SSE  ...          49       1018.3   \n",
            "\n",
            "   Pressure3pm  Cloud9am  Cloud3pm  Temp9am  Temp3pm  RainToday  RISK_MM  \\\n",
            "0       1015.0         7         7     14.4     23.6         No      3.6   \n",
            "1       1008.4         5         3     17.5     25.7        Yes      3.6   \n",
            "2       1007.2         8         7     15.4     20.2        Yes     39.8   \n",
            "3       1007.0         2         7     13.5     14.1        Yes      2.8   \n",
            "4       1018.5         7         7     11.1     15.4        Yes      0.0   \n",
            "\n",
            "   RainTomorrow  \n",
            "0           Yes  \n",
            "1           Yes  \n",
            "2           Yes  \n",
            "3           Yes  \n",
            "4            No  \n",
            "\n",
            "[5 rows x 24 columns]\n",
            "\n",
            "데이터프레임 정보:\n",
            "<class 'pandas.core.frame.DataFrame'>\n",
            "RangeIndex: 366 entries, 0 to 365\n",
            "Data columns (total 24 columns):\n",
            " #   Column         Non-Null Count  Dtype  \n",
            "---  ------         --------------  -----  \n",
            " 0   Date           366 non-null    object \n",
            " 1   Location       366 non-null    object \n",
            " 2   MinTemp        366 non-null    float64\n",
            " 3   MaxTemp        366 non-null    float64\n",
            " 4   Rainfall       366 non-null    float64\n",
            " 5   Evaporation    366 non-null    float64\n",
            " 6   Sunshine       363 non-null    float64\n",
            " 7   WindGustDir    363 non-null    object \n",
            " 8   WindGustSpeed  364 non-null    float64\n",
            " 9   WindDir9am     335 non-null    object \n",
            " 10  WindDir3pm     365 non-null    object \n",
            " 11  WindSpeed9am   359 non-null    float64\n",
            " 12  WindSpeed3pm   366 non-null    int64  \n",
            " 13  Humidity9am    366 non-null    int64  \n",
            " 14  Humidity3pm    366 non-null    int64  \n",
            " 15  Pressure9am    366 non-null    float64\n",
            " 16  Pressure3pm    366 non-null    float64\n",
            " 17  Cloud9am       366 non-null    int64  \n",
            " 18  Cloud3pm       366 non-null    int64  \n",
            " 19  Temp9am        366 non-null    float64\n",
            " 20  Temp3pm        366 non-null    float64\n",
            " 21  RainToday      366 non-null    object \n",
            " 22  RISK_MM        366 non-null    float64\n",
            " 23  RainTomorrow   366 non-null    object \n",
            "dtypes: float64(12), int64(5), object(7)\n",
            "memory usage: 68.8+ KB\n"
          ]
        }
      ]
    },
    {
      "cell_type": "code",
      "source": [
        "# 모델 훈련에 필요한 주요 열의 결측치를 제거합니다.\n",
        "# 이 단계는 불필요한 오류를 방지합니다.\n",
        "df = df.dropna(subset=['RISK_MM', 'MinTemp', 'MaxTemp', 'WindGustDir', 'Evaporation', 'Sunshine', 'Rainfall', 'Cloud3pm'])\n",
        "\n",
        "# 예측 목표(target)인 'RISK_MM'을 제외하고 특성(features)을 선택합니다.\n",
        "# 모델에 사용되는 특성들은 수치형 데이터여야 합니다.\n",
        "X = df[['MinTemp', 'MaxTemp', 'Rainfall', 'Evaporation', 'Sunshine', 'WindGustSpeed',\n",
        "        'WindSpeed9am', 'WindSpeed3pm', 'Humidity9am', 'Humidity3pm',\n",
        "        'Pressure9am', 'Pressure3pm', 'Cloud9am', 'Cloud3pm', 'Temp9am', 'Temp3pm']]\n",
        "y = df['RISK_MM']\n",
        "\n",
        "# 'Location'과 'WindGustDir' 같은 범주형(문자열) 데이터를 원-핫 인코딩으로 변환합니다.\n",
        "# 이 과정이 없으면 'ValueError' 오류가 발생합니다.\n",
        "X_encoded = pd.get_dummies(X, drop_first=True)\n",
        "\n",
        "print(\"전처리 후 특성 데이터(X_encoded) 정보:\")\n",
        "X_encoded.info()"
      ],
      "metadata": {
        "colab": {
          "base_uri": "https://localhost:8080/"
        },
        "id": "o0ccYrdQddVd",
        "outputId": "8f5038b6-d559-4324-b173-adf0a981034f"
      },
      "execution_count": 48,
      "outputs": [
        {
          "output_type": "stream",
          "name": "stdout",
          "text": [
            "전처리 후 특성 데이터(X_encoded) 정보:\n",
            "<class 'pandas.core.frame.DataFrame'>\n",
            "Index: 360 entries, 0 to 365\n",
            "Data columns (total 16 columns):\n",
            " #   Column         Non-Null Count  Dtype  \n",
            "---  ------         --------------  -----  \n",
            " 0   MinTemp        360 non-null    float64\n",
            " 1   MaxTemp        360 non-null    float64\n",
            " 2   Rainfall       360 non-null    float64\n",
            " 3   Evaporation    360 non-null    float64\n",
            " 4   Sunshine       360 non-null    float64\n",
            " 5   WindGustSpeed  360 non-null    float64\n",
            " 6   WindSpeed9am   353 non-null    float64\n",
            " 7   WindSpeed3pm   360 non-null    int64  \n",
            " 8   Humidity9am    360 non-null    int64  \n",
            " 9   Humidity3pm    360 non-null    int64  \n",
            " 10  Pressure9am    360 non-null    float64\n",
            " 11  Pressure3pm    360 non-null    float64\n",
            " 12  Cloud9am       360 non-null    int64  \n",
            " 13  Cloud3pm       360 non-null    int64  \n",
            " 14  Temp9am        360 non-null    float64\n",
            " 15  Temp3pm        360 non-null    float64\n",
            "dtypes: float64(11), int64(5)\n",
            "memory usage: 47.8 KB\n"
          ]
        }
      ]
    },
    {
      "cell_type": "code",
      "source": [
        "from sklearn.impute import SimpleImputer\n",
        "import numpy as np\n",
        "\n",
        "# Create an imputer to fill missing values with the mean of the column\n",
        "imputer = SimpleImputer(missing_values=np.nan, strategy='mean')\n",
        "\n",
        "# Apply imputation to X_encoded\n",
        "X_imputed = imputer.fit_transform(X_encoded)\n",
        "\n",
        "# Convert the imputed array back to a DataFrame (optional, but keeps structure)\n",
        "X_imputed_df = pd.DataFrame(X_imputed, columns=X_encoded.columns)\n",
        "\n",
        "\n",
        "# 데이터를 훈련 세트와 테스트 세트로 8:2 비율로 분리합니다.\n",
        "X_train, X_test, y_train, y_test = train_test_split(X_imputed_df, y, test_size=0.2, random_state=42)\n",
        "\n",
        "# 선형 회귀 모델을 생성하고 훈련 데이터로 학습시킵니다.\n",
        "model = LinearRegression()\n",
        "model.fit(X_train, y_train)\n",
        "\n",
        "# 테스트 데이터에 대한 예측값을 생성합니다.\n",
        "ly_preds = model.predict(X_test)\n",
        "\n",
        "# Print the Mean Squared Error (Optional: Add evaluation metric)\n",
        "from sklearn.metrics import mean_squared_error\n",
        "print(f\"Mean Squared Error: {mean_squared_error(y_test, ly_preds)}\")"
      ],
      "metadata": {
        "colab": {
          "base_uri": "https://localhost:8080/"
        },
        "id": "pEyaybVwdfj3",
        "outputId": "2c5d796b-a78c-4f55-bf32-55203da200e8"
      },
      "execution_count": 50,
      "outputs": [
        {
          "output_type": "stream",
          "name": "stdout",
          "text": [
            "Mean Squared Error: 11.038676268070525\n"
          ]
        }
      ]
    },
    {
      "cell_type": "code",
      "source": [
        "# 모델의 성능을 평균 제곱 오차(MSE)로 평가합니다.\n",
        "mse = mean_squared_error(y_test, ly_preds)\n",
        "print(f\"모델의 평균 제곱 오차 (MSE): {mse:.2f}\")\n",
        "\n",
        "# 예측값과 실제값의 차이를 시각화합니다.\n",
        "plt.figure(figsize=(10, 6))\n",
        "\n",
        "# 실제값과 예측값을 산점도(scatter plot)로 표시\n",
        "plt.scatter(y_test, ly_preds, alpha=0.5)\n",
        "\n",
        "# 완벽한 예측을 나타내는 기준선(y=x)을 빨간 점선으로 추가합니다.\n",
        "plt.plot([y_test.min(), y_test.max()], [y_test.min(), y_test.max()], 'r--', lw=2)\n",
        "\n",
        "plt.title('실제값 vs. 예측값')\n",
        "plt.xlabel('실제 강수량 (mm)')\n",
        "plt.ylabel('예측 강수량 (mm)')\n",
        "plt.grid(True)\n",
        "plt.show()"
      ],
      "metadata": {
        "colab": {
          "base_uri": "https://localhost:8080/",
          "height": 755
        },
        "id": "qXzpMQiRds6N",
        "outputId": "615040e5-c48d-4759-e481-0b9b3aca764f"
      },
      "execution_count": 51,
      "outputs": [
        {
          "output_type": "stream",
          "name": "stdout",
          "text": [
            "모델의 평균 제곱 오차 (MSE): 11.04\n"
          ]
        },
        {
          "output_type": "stream",
          "name": "stderr",
          "text": [
            "/usr/local/lib/python3.12/dist-packages/IPython/core/pylabtools.py:151: UserWarning: Glyph 50696 (\\N{HANGUL SYLLABLE YE}) missing from font(s) DejaVu Sans.\n",
            "  fig.canvas.print_figure(bytes_io, **kw)\n",
            "/usr/local/lib/python3.12/dist-packages/IPython/core/pylabtools.py:151: UserWarning: Glyph 52769 (\\N{HANGUL SYLLABLE CEUG}) missing from font(s) DejaVu Sans.\n",
            "  fig.canvas.print_figure(bytes_io, **kw)\n",
            "/usr/local/lib/python3.12/dist-packages/IPython/core/pylabtools.py:151: UserWarning: Glyph 44053 (\\N{HANGUL SYLLABLE GANG}) missing from font(s) DejaVu Sans.\n",
            "  fig.canvas.print_figure(bytes_io, **kw)\n",
            "/usr/local/lib/python3.12/dist-packages/IPython/core/pylabtools.py:151: UserWarning: Glyph 49688 (\\N{HANGUL SYLLABLE SU}) missing from font(s) DejaVu Sans.\n",
            "  fig.canvas.print_figure(bytes_io, **kw)\n",
            "/usr/local/lib/python3.12/dist-packages/IPython/core/pylabtools.py:151: UserWarning: Glyph 47049 (\\N{HANGUL SYLLABLE RYANG}) missing from font(s) DejaVu Sans.\n",
            "  fig.canvas.print_figure(bytes_io, **kw)\n",
            "/usr/local/lib/python3.12/dist-packages/IPython/core/pylabtools.py:151: UserWarning: Glyph 49892 (\\N{HANGUL SYLLABLE SIL}) missing from font(s) DejaVu Sans.\n",
            "  fig.canvas.print_figure(bytes_io, **kw)\n",
            "/usr/local/lib/python3.12/dist-packages/IPython/core/pylabtools.py:151: UserWarning: Glyph 51228 (\\N{HANGUL SYLLABLE JE}) missing from font(s) DejaVu Sans.\n",
            "  fig.canvas.print_figure(bytes_io, **kw)\n",
            "/usr/local/lib/python3.12/dist-packages/IPython/core/pylabtools.py:151: UserWarning: Glyph 44050 (\\N{HANGUL SYLLABLE GABS}) missing from font(s) DejaVu Sans.\n",
            "  fig.canvas.print_figure(bytes_io, **kw)\n"
          ]
        },
        {
          "output_type": "display_data",
          "data": {
            "text/plain": [
              "<Figure size 1000x600 with 1 Axes>"
            ],
            "image/png": "[encoded data removed]"
          },
          "metadata": {}
        }
      ]
    }
  ]
}