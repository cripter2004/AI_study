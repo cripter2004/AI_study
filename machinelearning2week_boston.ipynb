{
  "nbformat": 4,
  "nbformat_minor": 0,
  "metadata": {
    "colab": {
      "provenance": []
    },
    "kernelspec": {
      "name": "python3",
      "display_name": "Python 3"
    },
    "language_info": {
      "name": "python"
    }
  },
  "cells": [
    {
      "cell_type": "markdown",
      "source": [],
      "metadata": {
        "id": "UVU_NV0ENyUD"
      }
    },
    {
      "cell_type": "code",
      "source": [
        "import numpy as np\n",
        "import pandas as pd\n",
        "from sklearn.model_selection import train_test_split\n",
        "from sklearn.tree import DecisionTreeRegressor\n",
        "from sklearn.ensemble import RandomForestRegressor\n",
        "from sklearn.linear_model import LinearRegression\n",
        "from sklearn.pipeline import make_pipeline\n",
        "from sklearn.preprocessing import StandardScaler\n",
        "from sklearn.metrics import mean_absolute_error, mean_squared_error, r2_score\n",
        "\n",
        "# -----------------------------\n",
        "# 1) 데이터 준비\n",
        "# -----------------------------\n",
        "# boston.csv 파일 로드\n",
        "df = pd.read_csv(\"/content/drive/MyDrive/Colab Notebooks/boston.csv\").dropna()\n",
        "\n",
        "# 특성(X)과 타겟(y) 분리\n",
        "# 회귀 문제이므로 예측할 값인 'PRICE'를 타겟으로 설정합니다.\n",
        "X = df.drop(columns=[\"PRICE\"])\n",
        "y = df[\"PRICE\"]\n",
        "\n",
        "# 학습 및 테스트 데이터 분리\n",
        "X_train, X_test, y_train, y_test = train_test_split(\n",
        "    X, y, test_size=0.2, random_state=42\n",
        ")\n",
        "\n",
        "# -----------------------------\n",
        "# 2) 모델 구성\n",
        "# -----------------------------\n",
        "# 회귀 분석을 위한 모델들입니다.\n",
        "dt = DecisionTreeRegressor(random_state=42)\n",
        "rf = RandomForestRegressor(n_estimators=200, random_state=42, n_jobs=-1)\n",
        "\n",
        "# 선형회귀는 스케일링과 함께 파이프라인 구성\n",
        "# 데이터의 스케일 차이를 보정하여 성능을 향상시킵니다.\n",
        "lr = make_pipeline(StandardScaler(), LinearRegression())\n",
        "\n",
        "# -----------------------------\n",
        "# 3) 모델 학습\n",
        "# -----------------------------\n",
        "dt.fit(X_train, y_train)\n",
        "rf.fit(X_train, y_train)\n",
        "lr.fit(X_train, y_train)\n",
        "\n",
        "# -----------------------------\n",
        "# 4) 모델 평가\n",
        "# -----------------------------\n",
        "# 회귀 모델의 성능을 평가하는 함수\n",
        "def eval_reg(y_true, y_pred):\n",
        "    mae = mean_absolute_error(y_true, y_pred)\n",
        "    rmse = np.sqrt(mean_squared_error(y_true, y_pred))\n",
        "    r2 = r2_score(y_true, y_pred)\n",
        "    return mae, rmse, r2\n",
        "\n",
        "# 모델별 예측\n",
        "dt_pred = dt.predict(X_test)\n",
        "rf_pred = rf.predict(X_test)\n",
        "lr_pred = lr.predict(X_test)\n",
        "\n",
        "# 모델별 평가 지표 출력\n",
        "dt_mae, dt_rmse, dt_r2 = eval_reg(y_test, dt_pred)\n",
        "rf_mae, rf_rmse, rf_r2 = eval_reg(y_test, rf_pred)\n",
        "lr_mae, lr_rmse, lr_r2 = eval_reg(y_test, lr_pred)\n",
        "\n",
        "print(\"=== Test Metrics (Regression) ===\")\n",
        "print(\"[Decision Tree]\")\n",
        "print(f\"MAE: {dt_mae:.3f} | RMSE: {dt_rmse:.3f} | R^2: {dt_r2:.3f}\")\n",
        "\n",
        "print(\"[Random Forest]\")\n",
        "print(f\"MAE: {rf_mae:.3f} | RMSE: {rf_rmse:.3f} | R^2: {rf_r2:.3f}\")\n",
        "\n",
        "print(\"[Linear Regression]\")\n",
        "print(f\"MAE: {lr_mae:.3f} | RMSE: {lr_rmse:.3f} | R^2: {lr_r2:.3f}\")"
      ],
      "metadata": {
        "colab": {
          "base_uri": "https://localhost:8080/"
        },
        "id": "uE03hP5cV5vF",
        "outputId": "10011d02-d432-4ebc-a8b4-00827a0e6e26"
      },
      "execution_count": 3,
      "outputs": [
        {
          "output_type": "stream",
          "name": "stdout",
          "text": [
            "=== Test Metrics (Regression) ===\n",
            "[Decision Tree]\n",
            "MAE: 0.444 | RMSE: 0.694 | R^2: 0.632\n",
            "[Random Forest]\n",
            "MAE: 0.315 | RMSE: 0.490 | R^2: 0.817\n",
            "[Linear Regression]\n",
            "MAE: 0.532 | RMSE: 0.745 | R^2: 0.577\n"
          ]
        }
      ]
    },
    {
      "cell_type": "markdown",
      "source": [],
      "metadata": {
        "id": "TfLXAAEGOe9D"
      }
    }
  ]
}